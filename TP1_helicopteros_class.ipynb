{
 "cells": [
  {
   "cell_type": "markdown",
   "metadata": {},
   "source": [
    "# Trabajo Practico 1 - Fundamentos de los Helicópteros"
   ]
  },
  {
   "cell_type": "markdown",
   "metadata": {},
   "source": [
    "## Introducción"
   ]
  },
  {
   "cell_type": "markdown",
   "metadata": {},
   "source": [
    "El trabajo consiste en calcular las características de vuelo en punto fijo para un helicoptero convencional, asi como la distribución de velocidades y cargas a lo largo de las palas del rotor. El helicóptero en estudio es el Robison Beta R-22. Para determinar la potencia necesaria para mover el rotor y la tracción generada, para distintos ángulos de paso, empleamos la teoria combinada del elemento de pala y la cantidad de movimiento"
   ]
  },
  {
   "cell_type": "markdown",
   "metadata": {},
   "source": [
    "### Datos de Entrada"
   ]
  },
  {
   "cell_type": "code",
   "execution_count": null,
   "metadata": {
    "collapsed": true
   },
   "outputs": [],
   "source": [
    "import sys\n",
    "sys.path.append('C:\\\\Users\\\\enri\\\\PYTHON_PROJECTS\\\\Helicopteros')"
   ]
  },
  {
   "cell_type": "code",
   "execution_count": null,
   "metadata": {
    "collapsed": true
   },
   "outputs": [],
   "source": [
    "import numpy as np\n",
    "import matplotlib.pyplot as plt\n",
    "import atmosfera_estandar\n",
    "from scipy import interpolate\n",
    "import helicopter as Helicopter\n",
    "%matplotlib inline"
   ]
  },
  {
   "cell_type": "code",
   "execution_count": null,
   "metadata": {
    "collapsed": true
   },
   "outputs": [],
   "source": [
    "gravity = 9.81 #[m/s**2]\n",
    "temp = 15 + 273 # Sea level temperature\n",
    "height = [0, 1000.0, 2000.0, 3000.0, 4000.0]\n",
    "density = [atmosfera_estandar.atmosfera_estandar('altura',h)[4] for h in height]\n",
    "temperature = [atmosfera_estandar.atmosfera_estandar('altura',h)[3] for h in height]\n",
    "vel_son = [atmosfera_estandar.atmosfera_estandar('altura',h)[6] for h in height]"
   ]
  },
  {
   "cell_type": "code",
   "execution_count": null,
   "metadata": {
    "collapsed": true
   },
   "outputs": [],
   "source": [
    "airfoil_name = 'NACA 0012'\n",
    "a2d = 6 # [1/rad] airfoil Cl vs alpha slope\n",
    "alpha_perdida = 9*np.pi/180.0\n",
    "airfoil = Helicopter.Airfoil(name=airfoil_name, a2d=a2d, alpha_perdida=alpha_perdida)\n",
    "blade_length = 7.7/2.0;\n",
    "chord = 0.183 # [m]\n",
    "twist = -7 * np.pi / 180.0 # [rad]\n",
    "Fp = 0.97 # Blade's tip loss factor\n",
    "Cd0 = 0.01035 # Mean Resistance coeficient\n",
    "blade = Helicopter.Helicopter.Rotor.Blade(airfoil=airfoil, length=blade_length, chord=chord,\n",
    "                               twist=twist, blade_tip_lost_factor=Fp, cd0=Cd0)\n",
    "n_blades = 2\n",
    "inertia_rotor = 36.4 #[kg m**2]\n",
    "angular_velocity = 55.56 # [rad/s]\n",
    "rotor = Helicopter.Helicopter.Rotor(blade=blade, number_of_blades=n_blades,\n",
    "                         inertia=inertia_rotor, angular_velocity=angular_velocity)\n",
    "weight = 590 # [kg]\n",
    "helicopter = Helicopter.Helicopter(rotor=rotor, weight=weight)\n",
    "\n",
    "pot_h_0 = 131 * 745.6998715822701 # [watt]\n",
    "engine_manufacturer = Helicopter.EngineType.LYCOMING\n",
    "helicopter.engine = Helicopter.Helicopter.Engine(engine_type=engine_manufacturer,\n",
    "                                                potencia_maxima=pot_h_0)"
   ]
  }
 ],
 "metadata": {
  "kernelspec": {
   "display_name": "Python 3",
   "language": "python",
   "name": "python3"
  },
  "language_info": {
   "codemirror_mode": {
    "name": "ipython",
    "version": 3
   },
   "file_extension": ".py",
   "mimetype": "text/x-python",
   "name": "python",
   "nbconvert_exporter": "python",
   "pygments_lexer": "ipython3",
   "version": "3.5.1"
  }
 },
 "nbformat": 4,
 "nbformat_minor": 1
}
