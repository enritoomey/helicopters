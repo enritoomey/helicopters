{
 "cells": [
  {
   "cell_type": "markdown",
   "metadata": {},
   "source": [
    "# Trabajo Practico 1 - Fundamentos de los Helicópteros"
   ]
  },
  {
   "cell_type": "markdown",
   "metadata": {},
   "source": [
    "## Introducción"
   ]
  },
  {
   "cell_type": "markdown",
   "metadata": {},
   "source": [
    "El trabajo consiste en calcular las características de vuelo en punto fijo para un helicoptero convencional, asi como la distribución de velocidades y cargas a lo largo de las palas del rotor. El helicóptero en estudio es el Robison Beta R-22. Para determinar la potencia necesaria para mover el rotor y la tracción generada, para distintos ángulos de paso, empleamos la teoria combinada del elemento de pala y la cantidad de movimiento"
   ]
  },
  {
   "cell_type": "markdown",
   "metadata": {},
   "source": [
    "### Datos de Entrada"
   ]
  },
  {
   "cell_type": "code",
   "execution_count": 1,
   "metadata": {
    "collapsed": true
   },
   "outputs": [],
   "source": [
    "import sys\n",
    "sys.path.append('C:\\\\Users\\\\enri\\\\PYTHON_PROJECTS\\\\Helicopteros')"
   ]
  },
  {
   "cell_type": "code",
   "execution_count": 2,
   "metadata": {
    "collapsed": false
   },
   "outputs": [],
   "source": [
    "import os\n",
    "import numpy as np\n",
    "import matplotlib.pyplot as plt\n",
    "import atmosfera_estandar\n",
    "from scipy import interpolate\n",
    "import helicopter as Helicopter\n",
    "%matplotlib inline"
   ]
  },
  {
   "cell_type": "code",
   "execution_count": 3,
   "metadata": {
    "collapsed": true
   },
   "outputs": [],
   "source": [
    "gravity = 9.81 #[m/s**2]\n",
    "temp = 15 + 273 # Sea level temperature\n",
    "height = [0, 1000.0, 2000.0, 3000.0, 4000.0]\n",
    "density = [atmosfera_estandar.atmosfera_estandar('altura',h)[4] for h in height]\n",
    "temperature = [atmosfera_estandar.atmosfera_estandar('altura',h)[3] for h in height]\n",
    "vel_son = [atmosfera_estandar.atmosfera_estandar('altura',h)[6] for h in height]"
   ]
  },
  {
   "cell_type": "code",
   "execution_count": 4,
   "metadata": {
    "collapsed": true
   },
   "outputs": [],
   "source": [
    "airfoil_name = 'NACA 0012'\n",
    "a2d = 6 # [1/rad] airfoil Cl vs alpha slope\n",
    "alpha_perdida = 9*np.pi/180.0\n",
    "airfoil_old = Helicopter.Airfoil_old(name=airfoil_name, a2d=a2d, alpha_cl_max=alpha_perdida)"
   ]
  },
  {
   "cell_type": "code",
   "execution_count": 11,
   "metadata": {
    "collapsed": false
   },
   "outputs": [
    {
     "data": {
      "text/plain": [
       "'C:\\\\Users\\\\enri\\\\PYTHON_PROJECTS\\\\Perfiles2D\\\\TR824-Digitized\\\\0009.txt'"
      ]
     },
     "execution_count": 11,
     "metadata": {},
     "output_type": "execute_result"
    }
   ],
   "source": [
    "os.path.join(os.path.abspath('..//Perfiles2D/TR824-Digitized/'),'0009.txt')"
   ]
  },
  {
   "cell_type": "code",
   "execution_count": 12,
   "metadata": {
    "collapsed": false
   },
   "outputs": [
    {
     "name": "stderr",
     "output_type": "stream",
     "text": [
      "c:\\users\\enri\\appdata\\local\\programs\\python\\python35-32\\lib\\site-packages\\scipy\\optimize\\minpack.py:161: RuntimeWarning: The iteration is not making good progress, as measured by the \n",
      "  improvement from the last ten iterations.\n",
      "  warnings.warn(msg, RuntimeWarning)\n"
     ]
    }
   ],
   "source": [
    "airfoils_path = os.path.abspath('..//Perfiles2D/TR824-Digitized/') \n",
    "airfoil_filename = os.path.join(airfoils_path, '63(sub)2-015.txt')\n",
    "airfoil = Helicopter.Airfoil(file_name=airfoil_filename)"
   ]
  },
  {
   "cell_type": "code",
   "execution_count": 15,
   "metadata": {
    "collapsed": false
   },
   "outputs": [],
   "source": [
    "blade_length = 7.7/2.0;\n",
    "chord = 0.183 # [m]\n",
    "twist = -7 * np.pi / 180.0 # [rad]\n",
    "Fp = 0.97 # Blade's tip loss factor\n",
    "Cd0 = 0.01035 # Mean Resistance coeficient\n",
    "blade = Helicopter.Helicopter.Rotor.Blade(airfoil=airfoil, length=blade_length, chord=chord,\n",
    "                               twist=twist, blade_tip_lost_factor=Fp, cd0=Cd0)\n",
    "n_blades = 2\n",
    "inertia_rotor = 36.4 #[kg m**2]\n",
    "angular_velocity = 55.56 # [rad/s]\n",
    "rotor = Helicopter.Helicopter.Rotor(blade=blade, number_of_blades=n_blades,\n",
    "                         inertia=inertia_rotor, angular_velocity=angular_velocity)\n",
    "\n",
    "tail_airfoil_name = os.path.join(airfoils_path, '63(sub)2-415.txt')\n",
    "tail_airfoil = Helicopter.Airfoil(file_name=tail_airfoil_name)\n",
    "tail_blade_length = 1.75*Helicopter.FEET2METER\n",
    "tail_blade_chord = 0.33*Helicopter.FEET2METER\n",
    "tail_blade = Helicopter.Helicopter.Rotor.Blade(airfoil=tail_airfoil,\n",
    "                                               length=1.75*Helicopter.FEET2METER,\n",
    "                                               chord=0.33*Helicopter.FEET2METER,\n",
    "                                               twist=0.0)\n",
    "tail_rotor_inertia = 0.33 * Helicopter.POUND2KILOGRAM/(Helicopter.FEET2METER)**3*gravity\n",
    "tail_rotor = Helicopter.Helicopter.Rotor(blade=tail_blade,\n",
    "                                         number_of_blades=2,\n",
    "                                         inertia=tail_rotor_inertia)\n",
    "weight = 590 # [kg]\n",
    "helicopter = Helicopter.Helicopter(rotor=rotor, tail_rotor=tail_rotor, weight=weight)\n",
    "\n",
    "pot_h_0 = 131 * 745.6998715822701 # [watt]\n",
    "engine_manufacturer = Helicopter.EngineType.LYCOMING\n",
    "helicopter.engine = Helicopter.Helicopter.Engine(engine_type=engine_manufacturer,\n",
    "                                                potencia_maxima=pot_h_0)\n",
    "\n"
   ]
  },
  {
   "cell_type": "code",
   "execution_count": null,
   "metadata": {
    "collapsed": true
   },
   "outputs": [],
   "source": []
  }
 ],
 "metadata": {
  "kernelspec": {
   "display_name": "Python 3",
   "language": "python",
   "name": "python3"
  },
  "language_info": {
   "codemirror_mode": {
    "name": "ipython",
    "version": 3
   },
   "file_extension": ".py",
   "mimetype": "text/x-python",
   "name": "python",
   "nbconvert_exporter": "python",
   "pygments_lexer": "ipython3",
   "version": "3.5.1"
  }
 },
 "nbformat": 4,
 "nbformat_minor": 1
}
